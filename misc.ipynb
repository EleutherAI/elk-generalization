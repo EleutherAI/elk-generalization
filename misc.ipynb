{
 "cells": [
  {
   "cell_type": "code",
   "execution_count": 41,
   "metadata": {},
   "outputs": [],
   "source": [
    "import torch\n",
    "\n",
    "target = \"BH\"\n",
    "alice_labels = torch.load(f\"/workspace/elk-generalization/experiments/Mistral-7b-v0.1_quirky_addition_increment3_bob/{target}/test/alice_labels.pt\")\n",
    "bob_labels = torch.load(f\"/workspace/elk-generalization/experiments/Mistral-7b-v0.1_quirky_addition_increment3_bob/{target}/test/bob_labels.pt\")\n",
    "logodds = torch.load(f\"/workspace/elk-generalization/experiments/Mistral-7b-v0.1_quirky_addition_increment3_bob/{target}/test/BE_mean-diff_log_odds.pt\", map_location=\"cpu\")"
   ]
  },
  {
   "cell_type": "code",
   "execution_count": 44,
   "metadata": {},
   "outputs": [
    {
     "name": "stdout",
     "output_type": "stream",
     "text": [
      "0 0.44431406384814487\n",
      "1 0.4837963761863675\n",
      "2 0.5298015530629854\n",
      "3 0.5504400345125108\n",
      "4 0.5720103537532355\n",
      "5 0.5709059534081105\n",
      "6 0.5366005176876617\n",
      "7 0.513304572907679\n",
      "8 0.5200690250215703\n",
      "9 0.5231061259706644\n",
      "10 0.5564106988783434\n",
      "11 0.5772217428817947\n",
      "12 0.5947540983606557\n",
      "13 0.614081104400345\n",
      "14 0.6368248490077653\n",
      "15 0.6532528041415013\n",
      "16 0.6455220017256255\n",
      "17 0.6451078515962037\n",
      "18 0.6412769628990509\n",
      "19 0.6403106125970663\n",
      "20 0.6424158757549612\n",
      "21 0.6342364106988784\n",
      "22 0.6345125107851596\n",
      "23 0.6326833477135462\n",
      "24 0.6433822260569457\n",
      "25 0.6434857635893011\n",
      "26 0.6484900776531494\n",
      "27 0.6405176876617773\n",
      "28 0.6374460742018982\n",
      "29 0.6386540120793787\n",
      "30 0.998688524590164\n",
      "31 0.9978947368421053\n"
     ]
    }
   ],
   "source": [
    "from sklearn.metrics import roc_auc_score\n",
    "bob_labels.eq(logprobs > 0).float().mean()\n",
    "for layer in range(32):\n",
    "    print(layer, roc_auc_score(alice_labels.numpy(), logodds[layer].float().numpy()))"
   ]
  },
  {
   "cell_type": "code",
   "execution_count": 25,
   "metadata": {},
   "outputs": [
    {
     "data": {
      "text/plain": [
       "(32, 400)"
      ]
     },
     "execution_count": 25,
     "metadata": {},
     "output_type": "execute_result"
    }
   ],
   "source": [
    "logprobs.float().numpy().shape"
   ]
  },
  {
   "cell_type": "code",
   "execution_count": 13,
   "metadata": {},
   "outputs": [
    {
     "data": {
      "text/plain": [
       "tensor(1.)"
      ]
     },
     "execution_count": 13,
     "metadata": {},
     "output_type": "execute_result"
    }
   ],
   "source": [
    "bob_labels.eq(alice_labels).float().mean()"
   ]
  },
  {
   "cell_type": "code",
   "execution_count": null,
   "metadata": {},
   "outputs": [],
   "source": []
  },
  {
   "cell_type": "code",
   "execution_count": 38,
   "metadata": {},
   "outputs": [
    {
     "data": {
      "application/vnd.jupyter.widget-view+json": {
       "model_id": "cd41e8801e9b49c5908b7fe0ca775c16",
       "version_major": 2,
       "version_minor": 0
      },
      "text/plain": [
       "adapter_config.json:   0%|          | 0.00/747 [00:00<?, ?B/s]"
      ]
     },
     "metadata": {},
     "output_type": "display_data"
    },
    {
     "data": {
      "application/vnd.jupyter.widget-view+json": {
       "model_id": "8fe51c7c263e47428206543516786248",
       "version_major": 2,
       "version_minor": 0
      },
      "text/plain": [
       "adapter_model.safetensors:   0%|          | 0.00/37.8M [00:00<?, ?B/s]"
      ]
     },
     "metadata": {},
     "output_type": "display_data"
    }
   ],
   "source": [
    "model.load_adapter(\"atmallen/Mistral-7b-v0.1_quirky_addition_increment3_bob\", revision=\"3a1a321f13d577f34c4521430365ab21312c4743\")"
   ]
  },
  {
   "cell_type": "code",
   "execution_count": 40,
   "metadata": {},
   "outputs": [
    {
     "name": "stderr",
     "output_type": "stream",
     "text": [
      "/opt/conda/lib/python3.10/site-packages/transformers/integrations/peft.py:391: FutureWarning: The `active_adapter` method is deprecated and will be removed in a future version.\n",
      "  warnings.warn(\n"
     ]
    },
    {
     "data": {
      "application/vnd.jupyter.widget-view+json": {
       "model_id": "062fee4c78dc4edc9ebeb2a6d861497c",
       "version_major": 2,
       "version_minor": 0
      },
      "text/plain": [
       "adapter_model.safetensors:   0%|          | 0.00/75.5M [00:00<?, ?B/s]"
      ]
     },
     "metadata": {},
     "output_type": "display_data"
    },
    {
     "data": {
      "text/plain": [
       "CommitInfo(commit_url='https://huggingface.co/atmallen/Mistral-7b-v0.1_quirky_addition_increment3_bob/commit/6fb277c18d1c6d2dec516318b90fc275ef9a3ea1', commit_message='Upload MistralForCausalLM', commit_description='', oid='6fb277c18d1c6d2dec516318b90fc275ef9a3ea1', pr_url=None, pr_revision=None, pr_num=None)"
      ]
     },
     "execution_count": 40,
     "metadata": {},
     "output_type": "execute_result"
    }
   ],
   "source": [
    "model.push_to_hub(\"atmallen/Mistral-7b-v0.1_quirky_addition_increment3_bob\")"
   ]
  }
 ],
 "metadata": {
  "kernelspec": {
   "display_name": "base",
   "language": "python",
   "name": "python3"
  },
  "language_info": {
   "codemirror_mode": {
    "name": "ipython",
    "version": 3
   },
   "file_extension": ".py",
   "mimetype": "text/x-python",
   "name": "python",
   "nbconvert_exporter": "python",
   "pygments_lexer": "ipython3",
   "version": "3.10.11"
  }
 },
 "nbformat": 4,
 "nbformat_minor": 2
}
