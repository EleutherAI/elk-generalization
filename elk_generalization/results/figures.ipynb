{
 "cells": [
  {
   "cell_type": "markdown",
   "metadata": {},
   "source": [
    "# Figures for the paper"
   ]
  },
  {
   "cell_type": "code",
   "execution_count": null,
   "metadata": {},
   "outputs": [],
   "source": [
    "from viz import get_result_dfs\n",
    "\n",
    "exps = [(\"A\", \"A\"), (\"A\", \"B\"), (\"B\", \"B\"), (\"B\", \"A\")]\n",
    "rs = dict()\n",
    "for i, (fr, to) in enumerate(exps):\n",
    "    avg_reporter_results, result_dfs, avg_lm_result, lm_results = get_result_dfs(fr, to, filter_by=\"disagree\")\n",
    "    rs[(fr, to)] = (avg_reporter_results, result_dfs, avg_lm_result, lm_results)"
   ]
  },
  {
   "cell_type": "code",
   "execution_count": null,
   "metadata": {},
   "outputs": [],
   "source": [
    "import os\n",
    "import matplotlib.pyplot as plt\n",
    "import seaborn as sns\n",
    "sns.set_style(\"whitegrid\")\n",
    "sns.set_context(\"paper\")\n",
    "\n",
    "import matplotlib.colors as mcolors\n",
    "\n",
    "named_colors = list(mcolors.CSS4_COLORS.keys())[20:]\n",
    "\n",
    "fig, axes = plt.subplots(2, 2, sharex=True, sharey=True, figsize=(10, 6), dpi=800)\n",
    "\n",
    "for i, (fr, to) in enumerate(exps):\n",
    "    ax = axes[i // 2][i % 2]\n",
    "    avg_reporter_results, results_dfs, avg_lm_result, lm_results = rs[(fr, to)]\n",
    "    j = 0\n",
    "    for key, result_df, lm_result in zip(results_dfs.keys(), results_dfs.values(), lm_results.values()):\n",
    "        ax.plot(result_df[\"layer_frac\"], result_df[metric], alpha=0.2, color=\"fuchsia\", linewidth=0.5)\n",
    "        ax.hlines(lm_result, 0, 1, alpha=1, color=named_colors[j], linewidth=1, label=str(key))\n",
    "        # ax.hlines(result_df[\"lm_auroc\"].iloc[0], 0, 1, alpha=0.2, color=\"dodgerblue\", linewidth=0.5)\n",
    "        j += 1\n",
    "\n",
    "    ax.plot(avg_reporter_results[\"layer_frac\"], avg_reporter_results[metric], label=\"LR probe\", linewidth=2, color=\"fuchsia\")\n",
    "\n",
    "    ax.hlines(avg_lm_result, 0, 1, label=\"Final layer LM output\", color=\"dodgerblue\", linewidth=2, linestyle=\"-\")\n",
    "    ax.hlines(0.5, 0, 1, label=\"random\", color=\"black\", linewidth=0.5, linestyle=\"--\")\n",
    "\n",
    "    if i % 2 == 0:\n",
    "        ax.set_ylabel(\"AUROC\")\n",
    "    if i // 2 == 1: \n",
    "        ax.set_xlabel(\"Layer (fraction of max)\")\n",
    "    if fr == to:\n",
    "        title = fr.title() + \" (no transfer)\"\n",
    "    else:\n",
    "        title = (f\"{fr.title()} → {to.title()}\")\n",
    "    ax.set_title(title)\n",
    "    ax.set_xlim(0, 1)\n",
    "    ax.set_ylim(-0.01, 1.01)\n",
    "    if i == 0:\n",
    "        ax.legend()\n",
    "\n",
    "plt.tight_layout()\n",
    "os.makedirs(\"../../figures\", exist_ok=True)\n",
    "plt.savefig(\"../../figures/layerwise_auroc_AB.pdf\")\n",
    "plt.show()"
   ]
  },
  {
   "cell_type": "markdown",
   "metadata": {},
   "source": [
    "# Table of results for LR and CCS"
   ]
  },
  {
   "cell_type": "code",
   "execution_count": null,
   "metadata": {},
   "outputs": [],
   "source": [
    "exps = [(\"all\", \"bob_hard_4\"), (\"alice_easy_2\", \"bob_hard_4\")]\n",
    "for i, (fr, to) in enumerate(exps):\n",
    "    avg_reporter_results, result_dfs, avg_lm_result, lm_results = get_result_dfs(fr, to, filter_by=\"disagree\", label_col=\"alice_label\", reporter=\"ccs\")\n",
    "    print(f\"Average disagreeing AUROC for {fr} → {to}: {avg_reporter_results['reporter'].mean():.3f}\")\n",
    "\n",
    "print(\"Logistic regression:\")\n",
    "\n",
    "exps = [(\"alice_easy_2\", \"bob_hard_4\")]\n",
    "for i, (fr, to) in enumerate(exps):\n",
    "    avg_reporter_results, result_dfs, avg_lm_result, lm_results = get_result_dfs(fr, to, filter_by=\"disagree\", label_col=\"alice_label\", reporter=\"lr\")\n",
    "    print(f\"Average disagreeing AUROC for {fr} → {to}: {avg_reporter_results['reporter'].mean():.3f}\")"
   ]
  },
  {
   "cell_type": "code",
   "execution_count": null,
   "metadata": {},
   "outputs": [],
   "source": []
  },
  {
   "cell_type": "code",
   "execution_count": null,
   "metadata": {},
   "outputs": [],
   "source": []
  },
  {
   "cell_type": "code",
   "execution_count": null,
   "metadata": {},
   "outputs": [],
   "source": []
  }
 ],
 "metadata": {
  "kernelspec": {
   "display_name": "elkg",
   "language": "python",
   "name": "python3"
  },
  "language_info": {
   "codemirror_mode": {
    "name": "ipython",
    "version": 3
   },
   "file_extension": ".py",
   "mimetype": "text/x-python",
   "name": "python",
   "nbconvert_exporter": "python",
   "pygments_lexer": "ipython3",
   "version": "3.11.5"
  }
 },
 "nbformat": 4,
 "nbformat_minor": 2
}
